{
 "cells": [
  {
   "cell_type": "markdown",
   "id": "1df84067-df4a-4c27-9573-d8792623342d",
   "metadata": {},
   "source": [
    "# Regression with Neural Networks with Tensorflow\n",
    "Predicting a numerical variable based on some other combination of variables."
   ]
  },
  {
   "cell_type": "code",
   "execution_count": 1,
   "id": "a0c9989c-29c6-4b2b-987a-40a991340a3b",
   "metadata": {},
   "outputs": [
    {
     "name": "stderr",
     "output_type": "stream",
     "text": [
      "2024-03-08 20:37:19.158525: I external/local_tsl/tsl/cuda/cudart_stub.cc:31] Could not find cuda drivers on your machine, GPU will not be used.\n",
      "2024-03-08 20:37:19.190563: E external/local_xla/xla/stream_executor/cuda/cuda_dnn.cc:9261] Unable to register cuDNN factory: Attempting to register factory for plugin cuDNN when one has already been registered\n",
      "2024-03-08 20:37:19.190597: E external/local_xla/xla/stream_executor/cuda/cuda_fft.cc:607] Unable to register cuFFT factory: Attempting to register factory for plugin cuFFT when one has already been registered\n",
      "2024-03-08 20:37:19.191314: E external/local_xla/xla/stream_executor/cuda/cuda_blas.cc:1515] Unable to register cuBLAS factory: Attempting to register factory for plugin cuBLAS when one has already been registered\n",
      "2024-03-08 20:37:19.196215: I external/local_tsl/tsl/cuda/cudart_stub.cc:31] Could not find cuda drivers on your machine, GPU will not be used.\n",
      "2024-03-08 20:37:19.196887: I tensorflow/core/platform/cpu_feature_guard.cc:182] This TensorFlow binary is optimized to use available CPU instructions in performance-critical operations.\n",
      "To enable the following instructions: AVX2 FMA, in other operations, rebuild TensorFlow with the appropriate compiler flags.\n",
      "2024-03-08 20:37:19.868566: W tensorflow/compiler/tf2tensorrt/utils/py_utils.cc:38] TF-TRT Warning: Could not find TensorRT\n"
     ]
    },
    {
     "data": {
      "text/plain": [
       "'2.15.0'"
      ]
     },
     "execution_count": 1,
     "metadata": {},
     "output_type": "execute_result"
    }
   ],
   "source": [
    "# Import TensorFlow\n",
    "import tensorflow as tf\n",
    "tf.__version__"
   ]
  },
  {
   "cell_type": "markdown",
   "id": "c652342f-42cc-4263-99a2-ed45b5e5f280",
   "metadata": {},
   "source": [
    "## Creating data to view and fit"
   ]
  },
  {
   "cell_type": "code",
   "execution_count": 2,
   "id": "ec209f0b-100f-42d0-a74f-7b3f4adb6095",
   "metadata": {},
   "outputs": [
    {
     "data": {
      "text/plain": [
       "<matplotlib.collections.PathCollection at 0x7efb97d15d50>"
      ]
     },
     "execution_count": 2,
     "metadata": {},
     "output_type": "execute_result"
    },
    {
     "data": {
      "image/png": "[encoded data removed]",
      "text/plain": [
       "<Figure size 640x480 with 1 Axes>"
      ]
     },
     "metadata": {},
     "output_type": "display_data"
    }
   ],
   "source": [
    "import numpy as np\n",
    "import matplotlib.pyplot as plt\n",
    "\n",
    "# Create features\n",
    "X = np.array([-7.0, -4.0, -1.0, 2.0, 5.0, 8.0, 11.0, 14.0])\n",
    "\n",
    "# Create labels\n",
    "y = np.array([3.0, 6.0, 9.0, 12.0, 15.0, 18.0, 21.0, 24.0])\n",
    "\n",
    "# Visualize \n",
    "plt.scatter(X, y)"
   ]
  },
  {
   "cell_type": "code",
   "execution_count": 3,
   "id": "ca46e55a-69bd-4aab-8a5e-88c0cbebe64e",
   "metadata": {},
   "outputs": [
    {
     "data": {
      "text/plain": [
       "array([ True,  True,  True,  True,  True,  True,  True,  True])"
      ]
     },
     "execution_count": 3,
     "metadata": {},
     "output_type": "execute_result"
    }
   ],
   "source": [
    "y == X + 10"
   ]
  },
  {
   "cell_type": "markdown",
   "id": "744fba9d-e562-4e21-a500-d545917507dc",
   "metadata": {},
   "source": [
    "## Input and output shapes"
   ]
  },
  {
   "cell_type": "code",
   "execution_count": 4,
   "id": "5dfcc634-3676-4c34-a61d-b88bab432d35",
   "metadata": {},
   "outputs": [
    {
     "data": {
      "text/plain": [
       "(<tf.Tensor: shape=(3,), dtype=string, numpy=array([b'bedroom', b'bathroom', b'garage'], dtype=object)>,\n",
       " <tf.Tensor: shape=(1,), dtype=int32, numpy=array([939700], dtype=int32)>)"
      ]
     },
     "execution_count": 4,
     "metadata": {},
     "output_type": "execute_result"
    }
   ],
   "source": [
    "# Create a demo tensor for our housing price prediction problem\n",
    "house_info = tf.constant([\"bedroom\", \"bathroom\", \"garage\"])\n",
    "house_price = tf.constant([939700])\n",
    "house_info, house_price"
   ]
  },
  {
   "cell_type": "code",
   "execution_count": 5,
   "id": "9e31ed53-8620-4cfa-b745-9021abccd9f7",
   "metadata": {},
   "outputs": [
    {
     "data": {
      "text/plain": [
       "(-7.0, 3.0)"
      ]
     },
     "execution_count": 5,
     "metadata": {},
     "output_type": "execute_result"
    }
   ],
   "source": [
    "X[0], y[0]"
   ]
  },
  {
   "cell_type": "code",
   "execution_count": 6,
   "id": "0d488ce5-91db-4fe9-a082-ae0ac4295e2b",
   "metadata": {},
   "outputs": [
    {
     "data": {
      "text/plain": [
       "(-4.0, 6.0)"
      ]
     },
     "execution_count": 6,
     "metadata": {},
     "output_type": "execute_result"
    }
   ],
   "source": [
    "X[1], y[1]"
   ]
  },
  {
   "cell_type": "code",
   "execution_count": 7,
   "id": "c2440799-1e82-4003-b707-72e63a76073c",
   "metadata": {},
   "outputs": [
    {
     "data": {
      "text/plain": [
       "((), ())"
      ]
     },
     "execution_count": 7,
     "metadata": {},
     "output_type": "execute_result"
    }
   ],
   "source": [
    "input_shape = X[0].shape\n",
    "output_shape = y[0].shape\n",
    "input_shape, output_shape"
   ]
  },
  {
   "cell_type": "code",
   "execution_count": 8,
   "id": "c3198f07-e678-4e00-8d53-50d52a3911c5",
   "metadata": {},
   "outputs": [
    {
     "data": {
      "text/plain": [
       "0"
      ]
     },
     "execution_count": 8,
     "metadata": {},
     "output_type": "execute_result"
    }
   ],
   "source": [
    "X[0].ndim"
   ]
  },
  {
   "cell_type": "code",
   "execution_count": 9,
   "id": "18300826-14b3-4e21-8108-ac9200a84065",
   "metadata": {},
   "outputs": [
    {
     "data": {
      "text/plain": [
       "(-7.0, 3.0)"
      ]
     },
     "execution_count": 9,
     "metadata": {},
     "output_type": "execute_result"
    }
   ],
   "source": [
    "X[0], y[0]"
   ]
  },
  {
   "cell_type": "code",
   "execution_count": 10,
   "id": "cb779146-c333-4b4d-9eee-e472b8ac0e52",
   "metadata": {},
   "outputs": [
    {
     "data": {
      "text/plain": [
       "(<tf.Tensor: shape=(8,), dtype=float32, numpy=array([-7., -4., -1.,  2.,  5.,  8., 11., 14.], dtype=float32)>,\n",
       " <tf.Tensor: shape=(8,), dtype=float32, numpy=array([ 3.,  6.,  9., 12., 15., 18., 21., 24.], dtype=float32)>)"
      ]
     },
     "execution_count": 10,
     "metadata": {},
     "output_type": "execute_result"
    }
   ],
   "source": [
    "# Turn NumPy arrays into tensors\n",
    "X = tf.constant(X, dtype=tf.float32)\n",
    "y = tf.constant(y, dtype=tf.float32)\n",
    "\n",
    "X, y"
   ]
  },
  {
   "cell_type": "code",
   "execution_count": 11,
   "id": "c400bc37-3244-4322-aed4-1cab972dd543",
   "metadata": {},
   "outputs": [
    {
     "data": {
      "text/plain": [
       "(TensorShape([8]), TensorShape([8]))"
      ]
     },
     "execution_count": 11,
     "metadata": {},
     "output_type": "execute_result"
    }
   ],
   "source": [
    "input_shape = X.shape\n",
    "output_shape = y.shape\n",
    "input_shape, output_shape"
   ]
  },
  {
   "cell_type": "code",
   "execution_count": 12,
   "id": "c8ab5edd-3352-4a44-a226-bc15bf0efd68",
   "metadata": {},
   "outputs": [
    {
     "data": {
      "text/plain": [
       "<matplotlib.collections.PathCollection at 0x7efb9cdc7160>"
      ]
     },
     "execution_count": 12,
     "metadata": {},
     "output_type": "execute_result"
    },
    {
     "data": {
      "image/png": "[encoded data removed]",
      "text/plain": [
       "<Figure size 640x480 with 1 Axes>"
      ]
     },
     "metadata": {},
     "output_type": "display_data"
    }
   ],
   "source": [
    "plt.scatter(X, y)"
   ]
  },
  {
   "cell_type": "markdown",
   "id": "86673844-02a2-4308-ab61-fd8bf7c49039",
   "metadata": {},
   "source": [
    "## Steps in modeling with tensorflow\n",
    "\n",
    "1. Creating a model - define the input and output layers, as well as the hidden layers of a deep learning model.\n",
    "2. Compiling a model - define a loss function (in other words, the function which tells our model how wrong it is) and the optimizer (tells our model how to improve the patterns its learing) and evaluation metrics (what we can use to interpret the preformance of our model).\n",
    "3. Fitting a model - letting the model try to find patterns between X and y (features and labels)."
   ]
  },
  {
   "cell_type": "code",
   "execution_count": 13,
   "id": "43235938-aa43-41f5-b53e-1591ee698e02",
   "metadata": {},
   "outputs": [
    {
     "name": "stdout",
     "output_type": "stream",
     "text": [
      "Epoch 1/5\n",
      "1/1 [==============================] - 0s 219ms/step - loss: 14.5964 - mae: 14.5964\n",
      "Epoch 2/5\n",
      "1/1 [==============================] - 0s 6ms/step - loss: 14.4639 - mae: 14.4639\n",
      "Epoch 3/5\n",
      "1/1 [==============================] - 0s 6ms/step - loss: 14.3314 - mae: 14.3314\n",
      "Epoch 4/5\n",
      "1/1 [==============================] - 0s 6ms/step - loss: 14.1989 - mae: 14.1989\n",
      "Epoch 5/5\n",
      "1/1 [==============================] - 0s 6ms/step - loss: 14.0664 - mae: 14.0664\n"
     ]
    },
    {
     "data": {
      "text/plain": [
       "<keras.src.callbacks.History at 0x7efb94347e50>"
      ]
     },
     "execution_count": 13,
     "metadata": {},
     "output_type": "execute_result"
    }
   ],
   "source": [
    "# Set random seed\n",
    "tf.random.set_seed(42)\n",
    "\n",
    "# 1. Create a model using the Sequential API\n",
    "model = tf.keras.Sequential([\n",
    "    tf.keras.layers.Dense(1)\n",
    "])\n",
    "\n",
    "# 2. Compile the model\n",
    "model.compile(loss=tf.keras.losses.mae, # mae is short for mean absolute error\n",
    "              optimizer=tf.keras.optimizers.SGD(), # sgd is short for stochastic gradient descent\n",
    "              metrics=[\"mae\"])\n",
    "\n",
    "# 3. Fit the model\n",
    "model.fit(tf.expand_dims(X, axis=-1), y, epochs=5)"
   ]
  },
  {
   "cell_type": "code",
   "execution_count": 14,
   "id": "3630799d-ac5d-40c9-b088-41236c923e52",
   "metadata": {},
   "outputs": [
    {
     "data": {
      "text/plain": [
       "(<tf.Tensor: shape=(8,), dtype=float32, numpy=array([-7., -4., -1.,  2.,  5.,  8., 11., 14.], dtype=float32)>,\n",
       " <tf.Tensor: shape=(8,), dtype=float32, numpy=array([ 3.,  6.,  9., 12., 15., 18., 21., 24.], dtype=float32)>)"
      ]
     },
     "execution_count": 14,
     "metadata": {},
     "output_type": "execute_result"
    }
   ],
   "source": [
    "# Check out X and Y\n",
    "X, y"
   ]
  },
  {
   "cell_type": "code",
   "execution_count": 15,
   "id": "efccbb38-ee14-44e6-8200-0f6278bdbbf5",
   "metadata": {},
   "outputs": [
    {
     "name": "stdout",
     "output_type": "stream",
     "text": [
      "1/1 [==============================] - 0s 59ms/step\n"
     ]
    },
    {
     "data": {
      "text/plain": [
       "array([[-2.300456]], dtype=float32)"
      ]
     },
     "execution_count": 15,
     "metadata": {},
     "output_type": "execute_result"
    }
   ],
   "source": [
    "# Try and make a prediction using our model\n",
    "y_pred = model.predict([17.0])\n",
    "y_pred"
   ]
  },
  {
   "cell_type": "code",
   "execution_count": 16,
   "id": "7f3c9a8f-0c6e-462a-9109-8d72852e3f8a",
   "metadata": {},
   "outputs": [
    {
     "data": {
      "text/plain": [
       "array([[6.9795437]], dtype=float32)"
      ]
     },
     "execution_count": 16,
     "metadata": {},
     "output_type": "execute_result"
    }
   ],
   "source": [
    "y_pred + 9.28"
   ]
  },
  {
   "cell_type": "markdown",
   "id": "eab1224c-1bcd-4417-a89c-9f38e91dd9a5",
   "metadata": {},
   "source": [
    "## Improving our model\n",
    "\n",
    "We can improve our model, by altering the steps we took to create a model.\n",
    "\n",
    "1. Creating a model - here we might add more layers, increase the number of hidden units (all called neurons) within each of the hidden layers, change the activation function of each layer.\n",
    "2. Compiling a model - here we might change the optimization function or perhaps the learning rate of the optimization function.\n",
    "3. Fitting a model - here we might fit a model for more epochs (leave it training for longer) or on more data (give the model more examples to learn from)."
   ]
  },
  {
   "cell_type": "code",
   "execution_count": 17,
   "id": "17ada580-d0cf-4b7e-a9f8-ca4c79e4813d",
   "metadata": {},
   "outputs": [
    {
     "name": "stdout",
     "output_type": "stream",
     "text": [
      "Epoch 1/100\n",
      "1/1 [==============================] - 0s 188ms/step - loss: 14.1406 - mae: 14.1406\n",
      "Epoch 2/100\n",
      "1/1 [==============================] - 0s 6ms/step - loss: 14.0081 - mae: 14.0081\n",
      "Epoch 3/100\n",
      "1/1 [==============================] - 0s 6ms/step - loss: 13.8756 - mae: 13.8756\n",
      "Epoch 4/100\n",
      "1/1 [==============================] - 0s 5ms/step - loss: 13.7431 - mae: 13.7431\n",
      "Epoch 5/100\n",
      "1/1 [==============================] - 0s 7ms/step - loss: 13.6106 - mae: 13.6106\n",
      "Epoch 6/100\n",
      "1/1 [==============================] - 0s 5ms/step - loss: 13.4781 - mae: 13.4781\n",
      "Epoch 7/100\n",
      "1/1 [==============================] - 0s 6ms/step - loss: 13.3456 - mae: 13.3456\n",
      "Epoch 8/100\n",
      "1/1 [==============================] - 0s 5ms/step - loss: 13.2131 - mae: 13.2131\n",
      "Epoch 9/100\n",
      "1/1 [==============================] - 0s 6ms/step - loss: 13.0806 - mae: 13.0806\n",
      "Epoch 10/100\n",
      "1/1 [==============================] - 0s 6ms/step - loss: 12.9481 - mae: 12.9481\n",
      "Epoch 11/100\n",
      "1/1 [==============================] - 0s 6ms/step - loss: 12.8156 - mae: 12.8156\n",
      "Epoch 12/100\n",
      "1/1 [==============================] - 0s 6ms/step - loss: 12.6831 - mae: 12.6831\n",
      "Epoch 13/100\n",
      "1/1 [==============================] - 0s 6ms/step - loss: 12.5506 - mae: 12.5506\n",
      "Epoch 14/100\n",
      "1/1 [==============================] - 0s 5ms/step - loss: 12.4181 - mae: 12.4181\n",
      "Epoch 15/100\n",
      "1/1 [==============================] - 0s 7ms/step - loss: 12.2856 - mae: 12.2856\n",
      "Epoch 16/100\n",
      "1/1 [==============================] - 0s 6ms/step - loss: 12.1531 - mae: 12.1531\n",
      "Epoch 17/100\n",
      "1/1 [==============================] - 0s 6ms/step - loss: 12.0206 - mae: 12.0206\n",
      "Epoch 18/100\n",
      "1/1 [==============================] - 0s 6ms/step - loss: 11.8881 - mae: 11.8881\n",
      "Epoch 19/100\n",
      "1/1 [==============================] - 0s 6ms/step - loss: 11.7556 - mae: 11.7556\n",
      "Epoch 20/100\n",
      "1/1 [==============================] - 0s 5ms/step - loss: 11.6231 - mae: 11.6231\n",
      "Epoch 21/100\n",
      "1/1 [==============================] - 0s 6ms/step - loss: 11.4906 - mae: 11.4906\n",
      "Epoch 22/100\n",
      "1/1 [==============================] - 0s 6ms/step - loss: 11.3581 - mae: 11.3581\n",
      "Epoch 23/100\n",
      "1/1 [==============================] - 0s 6ms/step - loss: 11.2256 - mae: 11.2256\n",
      "Epoch 24/100\n",
      "1/1 [==============================] - 0s 5ms/step - loss: 11.0931 - mae: 11.0931\n",
      "Epoch 25/100\n",
      "1/1 [==============================] - 0s 6ms/step - loss: 10.9606 - mae: 10.9606\n",
      "Epoch 26/100\n",
      "1/1 [==============================] - 0s 6ms/step - loss: 10.8281 - mae: 10.8281\n",
      "Epoch 27/100\n",
      "1/1 [==============================] - 0s 6ms/step - loss: 10.6956 - mae: 10.6956\n",
      "Epoch 28/100\n",
      "1/1 [==============================] - 0s 6ms/step - loss: 10.5631 - mae: 10.5631\n",
      "Epoch 29/100\n",
      "1/1 [==============================] - 0s 6ms/step - loss: 10.4306 - mae: 10.4306\n",
      "Epoch 30/100\n",
      "1/1 [==============================] - 0s 6ms/step - loss: 10.2981 - mae: 10.2981\n",
      "Epoch 31/100\n",
      "1/1 [==============================] - 0s 6ms/step - loss: 10.1656 - mae: 10.1656\n",
      "Epoch 32/100\n",
      "1/1 [==============================] - 0s 5ms/step - loss: 10.0331 - mae: 10.0331\n",
      "Epoch 33/100\n",
      "1/1 [==============================] - 0s 5ms/step - loss: 9.9006 - mae: 9.9006\n",
      "Epoch 34/100\n",
      "1/1 [==============================] - 0s 6ms/step - loss: 9.7681 - mae: 9.7681\n",
      "Epoch 35/100\n",
      "1/1 [==============================] - 0s 6ms/step - loss: 9.6356 - mae: 9.6356\n",
      "Epoch 36/100\n",
      "1/1 [==============================] - 0s 5ms/step - loss: 9.5031 - mae: 9.5031\n",
      "Epoch 37/100\n",
      "1/1 [==============================] - 0s 6ms/step - loss: 9.3706 - mae: 9.3706\n",
      "Epoch 38/100\n",
      "1/1 [==============================] - 0s 6ms/step - loss: 9.2381 - mae: 9.2381\n",
      "Epoch 39/100\n",
      "1/1 [==============================] - 0s 5ms/step - loss: 9.1056 - mae: 9.1056\n",
      "Epoch 40/100\n",
      "1/1 [==============================] - 0s 6ms/step - loss: 8.9731 - mae: 8.9731\n",
      "Epoch 41/100\n",
      "1/1 [==============================] - 0s 5ms/step - loss: 8.8406 - mae: 8.8406\n",
      "Epoch 42/100\n",
      "1/1 [==============================] - 0s 6ms/step - loss: 8.7081 - mae: 8.7081\n",
      "Epoch 43/100\n",
      "1/1 [==============================] - 0s 5ms/step - loss: 8.5756 - mae: 8.5756\n",
      "Epoch 44/100\n",
      "1/1 [==============================] - 0s 6ms/step - loss: 8.4431 - mae: 8.4431\n",
      "Epoch 45/100\n",
      "1/1 [==============================] - 0s 5ms/step - loss: 8.3106 - mae: 8.3106\n",
      "Epoch 46/100\n",
      "1/1 [==============================] - 0s 5ms/step - loss: 8.1781 - mae: 8.1781\n",
      "Epoch 47/100\n",
      "1/1 [==============================] - 0s 5ms/step - loss: 8.0456 - mae: 8.0456\n",
      "Epoch 48/100\n",
      "1/1 [==============================] - 0s 5ms/step - loss: 7.9131 - mae: 7.9131\n",
      "Epoch 49/100\n",
      "1/1 [==============================] - 0s 6ms/step - loss: 7.7806 - mae: 7.7806\n",
      "Epoch 50/100\n",
      "1/1 [==============================] - 0s 5ms/step - loss: 7.6481 - mae: 7.6481\n",
      "Epoch 51/100\n",
      "1/1 [==============================] - 0s 6ms/step - loss: 7.5156 - mae: 7.5156\n",
      "Epoch 52/100\n",
      "1/1 [==============================] - 0s 5ms/step - loss: 7.3831 - mae: 7.3831\n",
      "Epoch 53/100\n",
      "1/1 [==============================] - 0s 5ms/step - loss: 7.2506 - mae: 7.2506\n",
      "Epoch 54/100\n",
      "1/1 [==============================] - 0s 5ms/step - loss: 7.1181 - mae: 7.1181\n",
      "Epoch 55/100\n",
      "1/1 [==============================] - 0s 6ms/step - loss: 7.0950 - mae: 7.0950\n",
      "Epoch 56/100\n",
      "1/1 [==============================] - 0s 6ms/step - loss: 7.0894 - mae: 7.0894\n",
      "Epoch 57/100\n",
      "1/1 [==============================] - 0s 6ms/step - loss: 7.0838 - mae: 7.0838\n",
      "Epoch 58/100\n",
      "1/1 [==============================] - 0s 7ms/step - loss: 7.0781 - mae: 7.0781\n",
      "Epoch 59/100\n",
      "1/1 [==============================] - 0s 6ms/step - loss: 7.0725 - mae: 7.0725\n",
      "Epoch 60/100\n",
      "1/1 [==============================] - 0s 7ms/step - loss: 7.0669 - mae: 7.0669\n",
      "Epoch 61/100\n",
      "1/1 [==============================] - 0s 6ms/step - loss: 7.0613 - mae: 7.0613\n",
      "Epoch 62/100\n",
      "1/1 [==============================] - 0s 6ms/step - loss: 7.0556 - mae: 7.0556\n",
      "Epoch 63/100\n",
      "1/1 [==============================] - 0s 6ms/step - loss: 7.0500 - mae: 7.0500\n",
      "Epoch 64/100\n",
      "1/1 [==============================] - 0s 6ms/step - loss: 7.0444 - mae: 7.0444\n",
      "Epoch 65/100\n",
      "1/1 [==============================] - 0s 5ms/step - loss: 7.0388 - mae: 7.0388\n",
      "Epoch 66/100\n",
      "1/1 [==============================] - 0s 7ms/step - loss: 7.0331 - mae: 7.0331\n",
      "Epoch 67/100\n",
      "1/1 [==============================] - 0s 6ms/step - loss: 7.0275 - mae: 7.0275\n",
      "Epoch 68/100\n",
      "1/1 [==============================] - 0s 6ms/step - loss: 7.0219 - mae: 7.0219\n",
      "Epoch 69/100\n",
      "1/1 [==============================] - 0s 5ms/step - loss: 7.0163 - mae: 7.0163\n",
      "Epoch 70/100\n",
      "1/1 [==============================] - 0s 6ms/step - loss: 7.0106 - mae: 7.0106\n",
      "Epoch 71/100\n",
      "1/1 [==============================] - 0s 5ms/step - loss: 7.0050 - mae: 7.0050\n",
      "Epoch 72/100\n",
      "1/1 [==============================] - 0s 5ms/step - loss: 6.9994 - mae: 6.9994\n",
      "Epoch 73/100\n",
      "1/1 [==============================] - 0s 5ms/step - loss: 6.9938 - mae: 6.9938\n",
      "Epoch 74/100\n",
      "1/1 [==============================] - 0s 5ms/step - loss: 6.9881 - mae: 6.9881\n",
      "Epoch 75/100\n",
      "1/1 [==============================] - 0s 6ms/step - loss: 6.9825 - mae: 6.9825\n",
      "Epoch 76/100\n",
      "1/1 [==============================] - 0s 5ms/step - loss: 6.9769 - mae: 6.9769\n",
      "Epoch 77/100\n",
      "1/1 [==============================] - 0s 5ms/step - loss: 6.9713 - mae: 6.9713\n",
      "Epoch 78/100\n",
      "1/1 [==============================] - 0s 6ms/step - loss: 6.9656 - mae: 6.9656\n",
      "Epoch 79/100\n",
      "1/1 [==============================] - 0s 5ms/step - loss: 6.9600 - mae: 6.9600\n",
      "Epoch 80/100\n",
      "1/1 [==============================] - 0s 5ms/step - loss: 6.9544 - mae: 6.9544\n",
      "Epoch 81/100\n",
      "1/1 [==============================] - 0s 5ms/step - loss: 6.9488 - mae: 6.9488\n",
      "Epoch 82/100\n",
      "1/1 [==============================] - 0s 5ms/step - loss: 6.9431 - mae: 6.9431\n",
      "Epoch 83/100\n",
      "1/1 [==============================] - 0s 5ms/step - loss: 6.9375 - mae: 6.9375\n",
      "Epoch 84/100\n",
      "1/1 [==============================] - 0s 5ms/step - loss: 6.9319 - mae: 6.9319\n",
      "Epoch 85/100\n",
      "1/1 [==============================] - 0s 5ms/step - loss: 6.9263 - mae: 6.9263\n",
      "Epoch 86/100\n",
      "1/1 [==============================] - 0s 5ms/step - loss: 6.9206 - mae: 6.9206\n",
      "Epoch 87/100\n",
      "1/1 [==============================] - 0s 5ms/step - loss: 6.9150 - mae: 6.9150\n",
      "Epoch 88/100\n",
      "1/1 [==============================] - 0s 5ms/step - loss: 6.9094 - mae: 6.9094\n",
      "Epoch 89/100\n",
      "1/1 [==============================] - 0s 5ms/step - loss: 6.9038 - mae: 6.9038\n",
      "Epoch 90/100\n",
      "1/1 [==============================] - 0s 5ms/step - loss: 6.8981 - mae: 6.8981\n",
      "Epoch 91/100\n",
      "1/1 [==============================] - 0s 5ms/step - loss: 6.8925 - mae: 6.8925\n",
      "Epoch 92/100\n",
      "1/1 [==============================] - 0s 5ms/step - loss: 6.8869 - mae: 6.8869\n",
      "Epoch 93/100\n",
      "1/1 [==============================] - 0s 5ms/step - loss: 6.8813 - mae: 6.8813\n",
      "Epoch 94/100\n",
      "1/1 [==============================] - 0s 6ms/step - loss: 6.8756 - mae: 6.8756\n",
      "Epoch 95/100\n",
      "1/1 [==============================] - 0s 6ms/step - loss: 6.8700 - mae: 6.8700\n",
      "Epoch 96/100\n",
      "1/1 [==============================] - 0s 5ms/step - loss: 6.8644 - mae: 6.8644\n",
      "Epoch 97/100\n",
      "1/1 [==============================] - 0s 5ms/step - loss: 6.8588 - mae: 6.8588\n",
      "Epoch 98/100\n",
      "1/1 [==============================] - 0s 5ms/step - loss: 6.8531 - mae: 6.8531\n",
      "Epoch 99/100\n",
      "1/1 [==============================] - 0s 5ms/step - loss: 6.8475 - mae: 6.8475\n",
      "Epoch 100/100\n",
      "1/1 [==============================] - 0s 5ms/step - loss: 6.8419 - mae: 6.8419\n"
     ]
    },
    {
     "data": {
      "text/plain": [
       "<keras.src.callbacks.History at 0x7efb8c706bc0>"
      ]
     },
     "execution_count": 17,
     "metadata": {},
     "output_type": "execute_result"
    }
   ],
   "source": [
    "# Let's rebuild our model\n",
    "\n",
    "# 1. Create the model\n",
    "model = tf.keras.Sequential([\n",
    "    tf.keras.layers.Dense(1)\n",
    "])\n",
    "\n",
    "# 2. Compile model\n",
    "model.compile(loss=tf.keras.losses.mae,\n",
    "              optimizer=tf.keras.optimizers.SGD(),\n",
    "              metrics=[\"mae\"])\n",
    "\n",
    "# 3. Fit the model (this time we'll train for longer)\n",
    "model.fit(tf.expand_dims(X, axis=-1), y, epochs=100)"
   ]
  },
  {
   "cell_type": "code",
   "execution_count": 18,
   "id": "422a0b62-7654-474e-b686-9c880c419dd3",
   "metadata": {},
   "outputs": [
    {
     "data": {
      "text/plain": [
       "(<tf.Tensor: shape=(8,), dtype=float32, numpy=array([-7., -4., -1.,  2.,  5.,  8., 11., 14.], dtype=float32)>,\n",
       " <tf.Tensor: shape=(8,), dtype=float32, numpy=array([ 3.,  6.,  9., 12., 15., 18., 21., 24.], dtype=float32)>)"
      ]
     },
     "execution_count": 18,
     "metadata": {},
     "output_type": "execute_result"
    }
   ],
   "source": [
    "# Remind ourselves of the data\n",
    "X, y"
   ]
  },
  {
   "cell_type": "code",
   "execution_count": 19,
   "id": "e2a72627-0c6e-4bf2-b47d-ccacbc53b902",
   "metadata": {},
   "outputs": [
    {
     "name": "stdout",
     "output_type": "stream",
     "text": [
      "1/1 [==============================] - 0s 45ms/step\n"
     ]
    },
    {
     "data": {
      "text/plain": [
       "array([[29.903563]], dtype=float32)"
      ]
     },
     "execution_count": 19,
     "metadata": {},
     "output_type": "execute_result"
    }
   ],
   "source": [
    "# Let's see if our model's prediction has improved\n",
    "model.predict([17.0])"
   ]
  },
  {
   "cell_type": "code",
   "execution_count": 20,
   "id": "64a4c2c9-2185-4f79-a7c0-f2072cd92a09",
   "metadata": {},
   "outputs": [
    {
     "name": "stdout",
     "output_type": "stream",
     "text": [
      "Epoch 1/100\n",
      "1/1 [==============================] - 0s 249ms/step - loss: 13.0670 - mae: 13.0670\n",
      "Epoch 2/100\n",
      "1/1 [==============================] - 0s 7ms/step - loss: 12.5091 - mae: 12.5091\n",
      "Epoch 3/100\n",
      "1/1 [==============================] - 0s 6ms/step - loss: 11.9426 - mae: 11.9426\n",
      "Epoch 4/100\n",
      "1/1 [==============================] - 0s 6ms/step - loss: 11.3719 - mae: 11.3719\n",
      "Epoch 5/100\n",
      "1/1 [==============================] - 0s 6ms/step - loss: 10.7852 - mae: 10.7852\n",
      "Epoch 6/100\n",
      "1/1 [==============================] - 0s 6ms/step - loss: 10.1750 - mae: 10.1750\n",
      "Epoch 7/100\n",
      "1/1 [==============================] - 0s 6ms/step - loss: 9.5421 - mae: 9.5421\n",
      "Epoch 8/100\n",
      "1/1 [==============================] - 0s 6ms/step - loss: 8.8864 - mae: 8.8864\n",
      "Epoch 9/100\n",
      "1/1 [==============================] - 0s 5ms/step - loss: 8.1906 - mae: 8.1906\n",
      "Epoch 10/100\n",
      "1/1 [==============================] - 0s 7ms/step - loss: 7.4476 - mae: 7.4476\n",
      "Epoch 11/100\n",
      "1/1 [==============================] - 0s 6ms/step - loss: 6.6490 - mae: 6.6490\n",
      "Epoch 12/100\n",
      "1/1 [==============================] - 0s 6ms/step - loss: 5.7883 - mae: 5.7883\n",
      "Epoch 13/100\n",
      "1/1 [==============================] - 0s 6ms/step - loss: 4.8579 - mae: 4.8579\n",
      "Epoch 14/100\n",
      "1/1 [==============================] - 0s 6ms/step - loss: 4.2637 - mae: 4.2637\n",
      "Epoch 15/100\n",
      "1/1 [==============================] - 0s 5ms/step - loss: 4.1214 - mae: 4.1214\n",
      "Epoch 16/100\n",
      "1/1 [==============================] - 0s 6ms/step - loss: 4.1266 - mae: 4.1266\n",
      "Epoch 17/100\n",
      "1/1 [==============================] - 0s 5ms/step - loss: 4.0144 - mae: 4.0144\n",
      "Epoch 18/100\n",
      "1/1 [==============================] - 0s 6ms/step - loss: 4.0378 - mae: 4.0378\n",
      "Epoch 19/100\n",
      "1/1 [==============================] - 0s 6ms/step - loss: 3.9324 - mae: 3.9324\n",
      "Epoch 20/100\n",
      "1/1 [==============================] - 0s 6ms/step - loss: 3.9411 - mae: 3.9411\n",
      "Epoch 21/100\n",
      "1/1 [==============================] - 0s 5ms/step - loss: 3.9142 - mae: 3.9142\n",
      "Epoch 22/100\n",
      "1/1 [==============================] - 0s 6ms/step - loss: 3.9158 - mae: 3.9158\n",
      "Epoch 23/100\n",
      "1/1 [==============================] - 0s 5ms/step - loss: 3.9235 - mae: 3.9235\n",
      "Epoch 24/100\n",
      "1/1 [==============================] - 0s 6ms/step - loss: 3.8973 - mae: 3.8973\n",
      "Epoch 25/100\n",
      "1/1 [==============================] - 0s 5ms/step - loss: 3.9362 - mae: 3.9362\n",
      "Epoch 26/100\n",
      "1/1 [==============================] - 0s 6ms/step - loss: 3.8717 - mae: 3.8717\n",
      "Epoch 27/100\n",
      "1/1 [==============================] - 0s 5ms/step - loss: 3.9435 - mae: 3.9435\n",
      "Epoch 28/100\n",
      "1/1 [==============================] - 0s 6ms/step - loss: 3.8753 - mae: 3.8753\n",
      "Epoch 29/100\n",
      "1/1 [==============================] - 0s 5ms/step - loss: 3.9205 - mae: 3.9205\n",
      "Epoch 30/100\n",
      "1/1 [==============================] - 0s 6ms/step - loss: 3.8826 - mae: 3.8826\n",
      "Epoch 31/100\n",
      "1/1 [==============================] - 0s 5ms/step - loss: 3.8959 - mae: 3.8959\n",
      "Epoch 32/100\n",
      "1/1 [==============================] - 0s 6ms/step - loss: 3.8976 - mae: 3.8976\n",
      "Epoch 33/100\n",
      "1/1 [==============================] - 0s 6ms/step - loss: 3.8762 - mae: 3.8762\n",
      "Epoch 34/100\n",
      "1/1 [==============================] - 0s 6ms/step - loss: 3.9050 - mae: 3.9050\n",
      "Epoch 35/100\n",
      "1/1 [==============================] - 0s 5ms/step - loss: 3.8502 - mae: 3.8502\n",
      "Epoch 36/100\n",
      "1/1 [==============================] - 0s 5ms/step - loss: 3.9126 - mae: 3.9126\n",
      "Epoch 37/100\n",
      "1/1 [==============================] - 0s 6ms/step - loss: 3.8449 - mae: 3.8449\n",
      "Epoch 38/100\n",
      "1/1 [==============================] - 0s 6ms/step - loss: 3.8986 - mae: 3.8986\n",
      "Epoch 39/100\n",
      "1/1 [==============================] - 0s 5ms/step - loss: 3.8524 - mae: 3.8524\n",
      "Epoch 40/100\n",
      "1/1 [==============================] - 0s 6ms/step - loss: 3.8786 - mae: 3.8786\n",
      "Epoch 41/100\n",
      "1/1 [==============================] - 0s 6ms/step - loss: 3.8677 - mae: 3.8677\n",
      "Epoch 42/100\n",
      "1/1 [==============================] - 0s 6ms/step - loss: 3.8536 - mae: 3.8536\n",
      "Epoch 43/100\n",
      "1/1 [==============================] - 0s 6ms/step - loss: 3.8753 - mae: 3.8753\n",
      "Epoch 44/100\n",
      "1/1 [==============================] - 0s 6ms/step - loss: 3.8273 - mae: 3.8273\n",
      "Epoch 45/100\n",
      "1/1 [==============================] - 0s 5ms/step - loss: 3.8831 - mae: 3.8831\n",
      "Epoch 46/100\n",
      "1/1 [==============================] - 0s 6ms/step - loss: 3.8157 - mae: 3.8157\n",
      "Epoch 47/100\n",
      "1/1 [==============================] - 0s 6ms/step - loss: 3.8753 - mae: 3.8753\n",
      "Epoch 48/100\n",
      "1/1 [==============================] - 0s 7ms/step - loss: 3.8269 - mae: 3.8269\n",
      "Epoch 49/100\n",
      "1/1 [==============================] - 0s 7ms/step - loss: 3.8560 - mae: 3.8560\n",
      "Epoch 50/100\n",
      "1/1 [==============================] - 0s 7ms/step - loss: 3.8388 - mae: 3.8388\n",
      "Epoch 51/100\n",
      "1/1 [==============================] - 0s 6ms/step - loss: 3.8297 - mae: 3.8297\n",
      "Epoch 52/100\n",
      "1/1 [==============================] - 0s 5ms/step - loss: 3.8466 - mae: 3.8466\n",
      "Epoch 53/100\n",
      "1/1 [==============================] - 0s 6ms/step - loss: 3.8033 - mae: 3.8033\n",
      "Epoch 54/100\n",
      "1/1 [==============================] - 0s 5ms/step - loss: 3.8546 - mae: 3.8546\n",
      "Epoch 55/100\n",
      "1/1 [==============================] - 0s 6ms/step - loss: 3.7876 - mae: 3.7876\n",
      "Epoch 56/100\n",
      "1/1 [==============================] - 0s 6ms/step - loss: 3.8522 - mae: 3.8522\n",
      "Epoch 57/100\n",
      "1/1 [==============================] - 0s 7ms/step - loss: 3.8030 - mae: 3.8030\n",
      "Epoch 58/100\n",
      "1/1 [==============================] - 0s 6ms/step - loss: 3.8313 - mae: 3.8313\n",
      "Epoch 59/100\n",
      "1/1 [==============================] - 0s 6ms/step - loss: 3.8110 - mae: 3.8110\n",
      "Epoch 60/100\n",
      "1/1 [==============================] - 0s 5ms/step - loss: 3.8047 - mae: 3.8047\n",
      "Epoch 61/100\n",
      "1/1 [==============================] - 0s 5ms/step - loss: 3.8191 - mae: 3.8191\n",
      "Epoch 62/100\n",
      "1/1 [==============================] - 0s 5ms/step - loss: 3.7780 - mae: 3.7780\n",
      "Epoch 63/100\n",
      "1/1 [==============================] - 0s 5ms/step - loss: 3.8273 - mae: 3.8273\n",
      "Epoch 64/100\n",
      "1/1 [==============================] - 0s 6ms/step - loss: 3.7606 - mae: 3.7606\n",
      "Epoch 65/100\n",
      "1/1 [==============================] - 0s 5ms/step - loss: 3.8311 - mae: 3.8311\n",
      "Epoch 66/100\n",
      "1/1 [==============================] - 0s 6ms/step - loss: 3.7762 - mae: 3.7762\n",
      "Epoch 67/100\n",
      "1/1 [==============================] - 0s 5ms/step - loss: 3.8052 - mae: 3.8052\n",
      "Epoch 68/100\n",
      "1/1 [==============================] - 0s 6ms/step - loss: 3.7843 - mae: 3.7843\n",
      "Epoch 69/100\n",
      "1/1 [==============================] - 0s 6ms/step - loss: 3.7783 - mae: 3.7783\n",
      "Epoch 70/100\n",
      "1/1 [==============================] - 0s 6ms/step - loss: 3.7926 - mae: 3.7926\n",
      "Epoch 71/100\n",
      "1/1 [==============================] - 0s 6ms/step - loss: 3.7514 - mae: 3.7514\n",
      "Epoch 72/100\n",
      "1/1 [==============================] - 0s 6ms/step - loss: 3.8010 - mae: 3.8010\n",
      "Epoch 73/100\n",
      "1/1 [==============================] - 0s 6ms/step - loss: 3.7375 - mae: 3.7375\n",
      "Epoch 74/100\n",
      "1/1 [==============================] - 0s 5ms/step - loss: 3.8050 - mae: 3.8050\n",
      "Epoch 75/100\n",
      "1/1 [==============================] - 0s 6ms/step - loss: 3.7503 - mae: 3.7503\n",
      "Epoch 76/100\n",
      "1/1 [==============================] - 0s 6ms/step - loss: 3.7779 - mae: 3.7779\n",
      "Epoch 77/100\n",
      "1/1 [==============================] - 0s 5ms/step - loss: 3.7587 - mae: 3.7587\n",
      "Epoch 78/100\n",
      "1/1 [==============================] - 0s 6ms/step - loss: 3.7506 - mae: 3.7506\n",
      "Epoch 79/100\n",
      "1/1 [==============================] - 0s 5ms/step - loss: 3.7672 - mae: 3.7672\n",
      "Epoch 80/100\n",
      "1/1 [==============================] - 0s 5ms/step - loss: 3.7234 - mae: 3.7234\n",
      "Epoch 81/100\n",
      "1/1 [==============================] - 0s 6ms/step - loss: 3.7758 - mae: 3.7758\n",
      "Epoch 82/100\n",
      "1/1 [==============================] - 0s 5ms/step - loss: 3.7168 - mae: 3.7168\n",
      "Epoch 83/100\n",
      "1/1 [==============================] - 0s 5ms/step - loss: 3.7766 - mae: 3.7766\n",
      "Epoch 84/100\n",
      "1/1 [==============================] - 0s 5ms/step - loss: 3.7255 - mae: 3.7255\n",
      "Epoch 85/100\n",
      "1/1 [==============================] - 0s 5ms/step - loss: 3.7492 - mae: 3.7492\n",
      "Epoch 86/100\n",
      "1/1 [==============================] - 0s 5ms/step - loss: 3.7341 - mae: 3.7341\n",
      "Epoch 87/100\n",
      "1/1 [==============================] - 0s 6ms/step - loss: 3.7218 - mae: 3.7218\n",
      "Epoch 88/100\n",
      "1/1 [==============================] - 0s 5ms/step - loss: 3.7428 - mae: 3.7428\n",
      "Epoch 89/100\n",
      "1/1 [==============================] - 0s 6ms/step - loss: 3.6942 - mae: 3.6942\n",
      "Epoch 90/100\n",
      "1/1 [==============================] - 0s 5ms/step - loss: 3.7555 - mae: 3.7555\n",
      "Epoch 91/100\n",
      "1/1 [==============================] - 0s 5ms/step - loss: 3.6930 - mae: 3.6930\n",
      "Epoch 92/100\n",
      "1/1 [==============================] - 0s 5ms/step - loss: 3.7470 - mae: 3.7470\n",
      "Epoch 93/100\n",
      "1/1 [==============================] - 0s 6ms/step - loss: 3.7017 - mae: 3.7017\n",
      "Epoch 94/100\n",
      "1/1 [==============================] - 0s 5ms/step - loss: 3.7192 - mae: 3.7192\n",
      "Epoch 95/100\n",
      "1/1 [==============================] - 0s 6ms/step - loss: 3.7105 - mae: 3.7105\n",
      "Epoch 96/100\n",
      "1/1 [==============================] - 0s 5ms/step - loss: 3.6914 - mae: 3.6914\n",
      "Epoch 97/100\n",
      "1/1 [==============================] - 0s 5ms/step - loss: 3.7194 - mae: 3.7194\n",
      "Epoch 98/100\n",
      "1/1 [==============================] - 0s 6ms/step - loss: 3.6650 - mae: 3.6650\n",
      "Epoch 99/100\n",
      "1/1 [==============================] - 0s 6ms/step - loss: 3.7357 - mae: 3.7357\n",
      "Epoch 100/100\n",
      "1/1 [==============================] - 0s 5ms/step - loss: 3.6698 - mae: 3.6698\n"
     ]
    },
    {
     "data": {
      "text/plain": [
       "<keras.src.callbacks.History at 0x7efb8c600d30>"
      ]
     },
     "execution_count": 20,
     "metadata": {},
     "output_type": "execute_result"
    }
   ],
   "source": [
    "# Rebuild model adding a hidden layer in a model\n",
    "\n",
    "# 1. Create a model\n",
    "model = tf.keras.Sequential([\n",
    "    tf.keras.layers.Dense(100, activation=\"relu\"),\n",
    "    tf.keras.layers.Dense(1)\n",
    "])\n",
    "\n",
    "# 2. Compile a model\n",
    "model.compile(loss=tf.keras.losses.mae,\n",
    "              optimizer=tf.keras.optimizers.SGD(),\n",
    "              metrics=[\"mae\"])\n",
    "\n",
    "# 3. Fit the model\n",
    "model.fit(tf.expand_dims(X, axis=-1), y, epochs=100)"
   ]
  },
  {
   "cell_type": "code",
   "execution_count": 21,
   "id": "9e6e39dd-53fa-4da5-ae73-168aaaed0d72",
   "metadata": {},
   "outputs": [
    {
     "name": "stdout",
     "output_type": "stream",
     "text": [
      "1/1 [==============================] - 0s 50ms/step\n"
     ]
    },
    {
     "data": {
      "text/plain": [
       "array([[31.231045]], dtype=float32)"
      ]
     },
     "execution_count": 21,
     "metadata": {},
     "output_type": "execute_result"
    }
   ],
   "source": [
    "# Let's see prediction after adding a hidden layer\n",
    "model.predict([17.0])"
   ]
  },
  {
   "cell_type": "code",
   "execution_count": 22,
   "id": "3d435315-8c00-4895-83f8-86ff99e9191b",
   "metadata": {},
   "outputs": [
    {
     "name": "stdout",
     "output_type": "stream",
     "text": [
      "Epoch 1/100\n",
      "1/1 [==============================] - 0s 330ms/step - loss: 14.1588 - mae: 14.1588\n",
      "Epoch 2/100\n",
      "1/1 [==============================] - 0s 6ms/step - loss: 13.5007 - mae: 13.5007\n",
      "Epoch 3/100\n",
      "1/1 [==============================] - 0s 6ms/step - loss: 12.8492 - mae: 12.8492\n",
      "Epoch 4/100\n",
      "1/1 [==============================] - 0s 6ms/step - loss: 12.2022 - mae: 12.2022\n",
      "Epoch 5/100\n",
      "1/1 [==============================] - 0s 5ms/step - loss: 11.5576 - mae: 11.5576\n",
      "Epoch 6/100\n",
      "1/1 [==============================] - 0s 6ms/step - loss: 10.9126 - mae: 10.9126\n",
      "Epoch 7/100\n",
      "1/1 [==============================] - 0s 5ms/step - loss: 10.2643 - mae: 10.2643\n",
      "Epoch 8/100\n",
      "1/1 [==============================] - 0s 6ms/step - loss: 9.6095 - mae: 9.6095\n",
      "Epoch 9/100\n",
      "1/1 [==============================] - 0s 5ms/step - loss: 8.9454 - mae: 8.9454\n",
      "Epoch 10/100\n",
      "1/1 [==============================] - 0s 6ms/step - loss: 8.2692 - mae: 8.2692\n",
      "Epoch 11/100\n",
      "1/1 [==============================] - 0s 6ms/step - loss: 7.5783 - mae: 7.5783\n",
      "Epoch 12/100\n",
      "1/1 [==============================] - 0s 7ms/step - loss: 6.8698 - mae: 6.8698\n",
      "Epoch 13/100\n",
      "1/1 [==============================] - 0s 7ms/step - loss: 6.6891 - mae: 6.6891\n",
      "Epoch 14/100\n",
      "1/1 [==============================] - 0s 6ms/step - loss: 7.0378 - mae: 7.0378\n",
      "Epoch 15/100\n",
      "1/1 [==============================] - 0s 7ms/step - loss: 7.3213 - mae: 7.3213\n",
      "Epoch 16/100\n",
      "1/1 [==============================] - 0s 6ms/step - loss: 7.6852 - mae: 7.6852\n",
      "Epoch 17/100\n",
      "1/1 [==============================] - 0s 7ms/step - loss: 7.8196 - mae: 7.8196\n",
      "Epoch 18/100\n",
      "1/1 [==============================] - 0s 6ms/step - loss: 7.7675 - mae: 7.7675\n",
      "Epoch 19/100\n",
      "1/1 [==============================] - 0s 8ms/step - loss: 7.5721 - mae: 7.5721\n",
      "Epoch 20/100\n",
      "1/1 [==============================] - 0s 6ms/step - loss: 7.2669 - mae: 7.2669\n",
      "Epoch 21/100\n",
      "1/1 [==============================] - 0s 6ms/step - loss: 6.9168 - mae: 6.9168\n",
      "Epoch 22/100\n",
      "1/1 [==============================] - 0s 5ms/step - loss: 6.6615 - mae: 6.6615\n",
      "Epoch 23/100\n",
      "1/1 [==============================] - 0s 6ms/step - loss: 6.3965 - mae: 6.3965\n",
      "Epoch 24/100\n",
      "1/1 [==============================] - 0s 5ms/step - loss: 6.1245 - mae: 6.1245\n",
      "Epoch 25/100\n",
      "1/1 [==============================] - 0s 7ms/step - loss: 6.0636 - mae: 6.0636\n",
      "Epoch 26/100\n",
      "1/1 [==============================] - 0s 6ms/step - loss: 6.0277 - mae: 6.0277\n",
      "Epoch 27/100\n",
      "1/1 [==============================] - 0s 6ms/step - loss: 6.2250 - mae: 6.2250\n",
      "Epoch 28/100\n",
      "1/1 [==============================] - 0s 5ms/step - loss: 6.3158 - mae: 6.3158\n",
      "Epoch 29/100\n",
      "1/1 [==============================] - 0s 6ms/step - loss: 6.3139 - mae: 6.3139\n",
      "Epoch 30/100\n",
      "1/1 [==============================] - 0s 6ms/step - loss: 6.2306 - mae: 6.2306\n",
      "Epoch 31/100\n",
      "1/1 [==============================] - 0s 6ms/step - loss: 6.0743 - mae: 6.0743\n",
      "Epoch 32/100\n",
      "1/1 [==============================] - 0s 5ms/step - loss: 5.8513 - mae: 5.8513\n",
      "Epoch 33/100\n",
      "1/1 [==============================] - 0s 9ms/step - loss: 5.5660 - mae: 5.5660\n",
      "Epoch 34/100\n",
      "1/1 [==============================] - 0s 8ms/step - loss: 5.4254 - mae: 5.4254\n",
      "Epoch 35/100\n",
      "1/1 [==============================] - 0s 8ms/step - loss: 5.3151 - mae: 5.3151\n",
      "Epoch 36/100\n",
      "1/1 [==============================] - 0s 7ms/step - loss: 5.3408 - mae: 5.3408\n",
      "Epoch 37/100\n",
      "1/1 [==============================] - 0s 10ms/step - loss: 5.3616 - mae: 5.3616\n",
      "Epoch 38/100\n",
      "1/1 [==============================] - 0s 6ms/step - loss: 5.3390 - mae: 5.3390\n",
      "Epoch 39/100\n",
      "1/1 [==============================] - 0s 7ms/step - loss: 5.2760 - mae: 5.2760\n",
      "Epoch 40/100\n",
      "1/1 [==============================] - 0s 6ms/step - loss: 5.1754 - mae: 5.1754\n",
      "Epoch 41/100\n",
      "1/1 [==============================] - 0s 8ms/step - loss: 5.0398 - mae: 5.0398\n",
      "Epoch 42/100\n",
      "1/1 [==============================] - 0s 6ms/step - loss: 4.8720 - mae: 4.8720\n",
      "Epoch 43/100\n",
      "1/1 [==============================] - 0s 6ms/step - loss: 4.6742 - mae: 4.6742\n",
      "Epoch 44/100\n",
      "1/1 [==============================] - 0s 6ms/step - loss: 4.4485 - mae: 4.4485\n",
      "Epoch 45/100\n",
      "1/1 [==============================] - 0s 6ms/step - loss: 4.3289 - mae: 4.3289\n",
      "Epoch 46/100\n",
      "1/1 [==============================] - 0s 6ms/step - loss: 4.2304 - mae: 4.2304\n",
      "Epoch 47/100\n",
      "1/1 [==============================] - 0s 5ms/step - loss: 4.2522 - mae: 4.2522\n",
      "Epoch 48/100\n",
      "1/1 [==============================] - 0s 5ms/step - loss: 4.1875 - mae: 4.1875\n",
      "Epoch 49/100\n",
      "1/1 [==============================] - 0s 6ms/step - loss: 4.0107 - mae: 4.0107\n",
      "Epoch 50/100\n",
      "1/1 [==============================] - 0s 6ms/step - loss: 3.7297 - mae: 3.7297\n",
      "Epoch 51/100\n",
      "1/1 [==============================] - 0s 6ms/step - loss: 3.5196 - mae: 3.5196\n",
      "Epoch 52/100\n",
      "1/1 [==============================] - 0s 6ms/step - loss: 3.3891 - mae: 3.3891\n",
      "Epoch 53/100\n",
      "1/1 [==============================] - 0s 6ms/step - loss: 3.3206 - mae: 3.3206\n",
      "Epoch 54/100\n",
      "1/1 [==============================] - 0s 5ms/step - loss: 3.1978 - mae: 3.1978\n",
      "Epoch 55/100\n",
      "1/1 [==============================] - 0s 5ms/step - loss: 3.0229 - mae: 3.0229\n",
      "Epoch 56/100\n",
      "1/1 [==============================] - 0s 5ms/step - loss: 2.7979 - mae: 2.7979\n",
      "Epoch 57/100\n",
      "1/1 [==============================] - 0s 6ms/step - loss: 2.5246 - mae: 2.5246\n",
      "Epoch 58/100\n",
      "1/1 [==============================] - 0s 6ms/step - loss: 2.2689 - mae: 2.2689\n",
      "Epoch 59/100\n",
      "1/1 [==============================] - 0s 6ms/step - loss: 2.1272 - mae: 2.1272\n",
      "Epoch 60/100\n",
      "1/1 [==============================] - 0s 5ms/step - loss: 1.9517 - mae: 1.9517\n",
      "Epoch 61/100\n",
      "1/1 [==============================] - 0s 5ms/step - loss: 1.6303 - mae: 1.6303\n",
      "Epoch 62/100\n",
      "1/1 [==============================] - 0s 6ms/step - loss: 1.4238 - mae: 1.4238\n",
      "Epoch 63/100\n",
      "1/1 [==============================] - 0s 5ms/step - loss: 1.2830 - mae: 1.2830\n",
      "Epoch 64/100\n",
      "1/1 [==============================] - 0s 8ms/step - loss: 1.0273 - mae: 1.0273\n",
      "Epoch 65/100\n",
      "1/1 [==============================] - 0s 6ms/step - loss: 0.6424 - mae: 0.6424\n",
      "Epoch 66/100\n",
      "1/1 [==============================] - 0s 5ms/step - loss: 0.5706 - mae: 0.5706\n",
      "Epoch 67/100\n",
      "1/1 [==============================] - 0s 5ms/step - loss: 0.5004 - mae: 0.5004\n",
      "Epoch 68/100\n",
      "1/1 [==============================] - 0s 6ms/step - loss: 0.3368 - mae: 0.3368\n",
      "Epoch 69/100\n",
      "1/1 [==============================] - 0s 6ms/step - loss: 0.5399 - mae: 0.5399\n",
      "Epoch 70/100\n",
      "1/1 [==============================] - 0s 6ms/step - loss: 0.8455 - mae: 0.8455\n",
      "Epoch 71/100\n",
      "1/1 [==============================] - 0s 6ms/step - loss: 0.9320 - mae: 0.9320\n",
      "Epoch 72/100\n",
      "1/1 [==============================] - 0s 5ms/step - loss: 0.8245 - mae: 0.8245\n",
      "Epoch 73/100\n",
      "1/1 [==============================] - 0s 6ms/step - loss: 0.6447 - mae: 0.6447\n",
      "Epoch 74/100\n",
      "1/1 [==============================] - 0s 5ms/step - loss: 0.7459 - mae: 0.7459\n",
      "Epoch 75/100\n",
      "1/1 [==============================] - 0s 6ms/step - loss: 0.6763 - mae: 0.6763\n",
      "Epoch 76/100\n",
      "1/1 [==============================] - 0s 6ms/step - loss: 0.4514 - mae: 0.4514\n",
      "Epoch 77/100\n",
      "1/1 [==============================] - 0s 6ms/step - loss: 0.4803 - mae: 0.4803\n",
      "Epoch 78/100\n",
      "1/1 [==============================] - 0s 5ms/step - loss: 0.4100 - mae: 0.4100\n",
      "Epoch 79/100\n",
      "1/1 [==============================] - 0s 7ms/step - loss: 0.2380 - mae: 0.2380\n",
      "Epoch 80/100\n",
      "1/1 [==============================] - 0s 5ms/step - loss: 0.2069 - mae: 0.2069\n",
      "Epoch 81/100\n",
      "1/1 [==============================] - 0s 6ms/step - loss: 0.4027 - mae: 0.4027\n",
      "Epoch 82/100\n",
      "1/1 [==============================] - 0s 5ms/step - loss: 0.4288 - mae: 0.4288\n",
      "Epoch 83/100\n",
      "1/1 [==============================] - 0s 6ms/step - loss: 0.3062 - mae: 0.3062\n",
      "Epoch 84/100\n",
      "1/1 [==============================] - 0s 6ms/step - loss: 0.4014 - mae: 0.4014\n",
      "Epoch 85/100\n",
      "1/1 [==============================] - 0s 6ms/step - loss: 0.4475 - mae: 0.4475\n",
      "Epoch 86/100\n",
      "1/1 [==============================] - 0s 5ms/step - loss: 0.2440 - mae: 0.2440\n",
      "Epoch 87/100\n",
      "1/1 [==============================] - 0s 6ms/step - loss: 0.2672 - mae: 0.2672\n",
      "Epoch 88/100\n",
      "1/1 [==============================] - 0s 5ms/step - loss: 0.3937 - mae: 0.3937\n",
      "Epoch 89/100\n",
      "1/1 [==============================] - 0s 6ms/step - loss: 0.2572 - mae: 0.2572\n",
      "Epoch 90/100\n",
      "1/1 [==============================] - 0s 6ms/step - loss: 0.2009 - mae: 0.2009\n",
      "Epoch 91/100\n",
      "1/1 [==============================] - 0s 7ms/step - loss: 0.3713 - mae: 0.3713\n",
      "Epoch 92/100\n",
      "1/1 [==============================] - 0s 6ms/step - loss: 0.2913 - mae: 0.2913\n",
      "Epoch 93/100\n",
      "1/1 [==============================] - 0s 5ms/step - loss: 0.1163 - mae: 0.1163\n",
      "Epoch 94/100\n",
      "1/1 [==============================] - 0s 6ms/step - loss: 0.1775 - mae: 0.1775\n",
      "Epoch 95/100\n",
      "1/1 [==============================] - 0s 5ms/step - loss: 0.0225 - mae: 0.0225\n",
      "Epoch 96/100\n",
      "1/1 [==============================] - 0s 6ms/step - loss: 0.2332 - mae: 0.2332\n",
      "Epoch 97/100\n",
      "1/1 [==============================] - 0s 6ms/step - loss: 0.2038 - mae: 0.2038\n",
      "Epoch 98/100\n",
      "1/1 [==============================] - 0s 5ms/step - loss: 0.2194 - mae: 0.2194\n",
      "Epoch 99/100\n",
      "1/1 [==============================] - 0s 5ms/step - loss: 0.2772 - mae: 0.2772\n",
      "Epoch 100/100\n",
      "1/1 [==============================] - 0s 5ms/step - loss: 0.1983 - mae: 0.1983\n"
     ]
    },
    {
     "data": {
      "text/plain": [
       "<keras.src.callbacks.History at 0x7efb8c6c6e60>"
      ]
     },
     "execution_count": 22,
     "metadata": {},
     "output_type": "execute_result"
    }
   ],
   "source": [
    "# Rebuild model\n",
    "\n",
    "# 1. Create a model\n",
    "model = tf.keras.Sequential([\n",
    "    tf.keras.layers.Dense(50, activation=None),\n",
    "    tf.keras.layers.Dense(1)\n",
    "])\n",
    "\n",
    "# 2. Compile a model\n",
    "model.compile(loss=tf.keras.losses.mae,\n",
    "              optimizer=tf.keras.optimizers.Adam(learning_rate=0.01),\n",
    "              metrics=[\"mae\"])\n",
    "\n",
    "# 3. Fit the model\n",
    "model.fit(tf.expand_dims(X, axis=-1), y, epochs=100)"
   ]
  },
  {
   "cell_type": "code",
   "execution_count": 23,
   "id": "53e55a1b-7f22-4c4a-98f9-b6dc8de2d72b",
   "metadata": {},
   "outputs": [
    {
     "name": "stdout",
     "output_type": "stream",
     "text": [
      "1/1 [==============================] - 0s 53ms/step\n"
     ]
    },
    {
     "data": {
      "text/plain": [
       "array([[27.25307]], dtype=float32)"
      ]
     },
     "execution_count": 23,
     "metadata": {},
     "output_type": "execute_result"
    }
   ],
   "source": [
    "model.predict([17])"
   ]
  },
  {
   "cell_type": "markdown",
   "id": "c170f305-4f52-4f19-b76c-e2f70c8e1540",
   "metadata": {},
   "source": [
    "### Learning rate is one of most important parameters in netural networks"
   ]
  },
  {
   "cell_type": "code",
   "execution_count": null,
   "id": "ee502b0f-6cd3-4c4b-a3e3-d3610825f743",
   "metadata": {},
   "outputs": [],
   "source": []
  }
 ],
 "metadata": {
  "kernelspec": {
   "display_name": "Python 3 (ipykernel)",
   "language": "python",
   "name": "python3"
  },
  "language_info": {
   "codemirror_mode": {
    "name": "ipython",
    "version": 3
   },
   "file_extension": ".py",
   "mimetype": "text/x-python",
   "name": "python",
   "nbconvert_exporter": "python",
   "pygments_lexer": "ipython3",
   "version": "3.10.6"
  }
 },
 "nbformat": 4,
 "nbformat_minor": 5
}
